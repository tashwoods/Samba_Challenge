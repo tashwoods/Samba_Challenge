{
 "cells": [
  {
   "cell_type": "markdown",
   "metadata": {},
   "source": [
    "# US Politics This Week Ad Analysis"
   ]
  },
  {
   "cell_type": "code",
   "execution_count": 37,
   "metadata": {},
   "outputs": [],
   "source": [
    "import numpy as np\n",
    "import pandas as pd\n",
    "import matplotlib.pyplot as plt\n",
    "import seaborn as sns"
   ]
  },
  {
   "cell_type": "code",
   "execution_count": 38,
   "metadata": {},
   "outputs": [],
   "source": [
    "#CONSTANTS\n",
    "TEST_DATA_FILE = 'test_data.csv'\n",
    "VIEWER_DATA_FILE = 'viewer_data.csv'\n",
    "VIEWER_ID = 'viewer_id'\n",
    "SAW_LOCAL_AD = 'test'\n",
    "WATCHED_POLITICS = 'watched'"
   ]
  },
  {
   "cell_type": "markdown",
   "metadata": {},
   "source": [
    "# 1. Read Test dataset and display columns"
   ]
  },
  {
   "cell_type": "code",
   "execution_count": 39,
   "metadata": {},
   "outputs": [
    {
     "name": "stdout",
     "output_type": "stream",
     "text": [
      "418026\n"
     ]
    },
    {
     "data": {
      "text/html": [
       "<div>\n",
       "<style scoped>\n",
       "    .dataframe tbody tr th:only-of-type {\n",
       "        vertical-align: middle;\n",
       "    }\n",
       "\n",
       "    .dataframe tbody tr th {\n",
       "        vertical-align: top;\n",
       "    }\n",
       "\n",
       "    .dataframe thead th {\n",
       "        text-align: right;\n",
       "    }\n",
       "</style>\n",
       "<table border=\"1\" class=\"dataframe\">\n",
       "  <thead>\n",
       "    <tr style=\"text-align: right;\">\n",
       "      <th></th>\n",
       "      <th>viewer_id</th>\n",
       "      <th>date</th>\n",
       "      <th>tv_make</th>\n",
       "      <th>tv_size</th>\n",
       "      <th>uhd_capable</th>\n",
       "      <th>tv_provider</th>\n",
       "      <th>total_time_watched</th>\n",
       "      <th>watched</th>\n",
       "      <th>test</th>\n",
       "    </tr>\n",
       "  </thead>\n",
       "  <tbody>\n",
       "    <tr>\n",
       "      <th>0</th>\n",
       "      <td>24726768</td>\n",
       "      <td>2018-01-16</td>\n",
       "      <td>Sony</td>\n",
       "      <td>70</td>\n",
       "      <td>0</td>\n",
       "      <td>Comcast</td>\n",
       "      <td>10.75</td>\n",
       "      <td>0</td>\n",
       "      <td>1</td>\n",
       "    </tr>\n",
       "    <tr>\n",
       "      <th>1</th>\n",
       "      <td>25001464</td>\n",
       "      <td>2018-01-18</td>\n",
       "      <td>Sony</td>\n",
       "      <td>32</td>\n",
       "      <td>0</td>\n",
       "      <td>NaN</td>\n",
       "      <td>2.75</td>\n",
       "      <td>0</td>\n",
       "      <td>0</td>\n",
       "    </tr>\n",
       "    <tr>\n",
       "      <th>2</th>\n",
       "      <td>28291998</td>\n",
       "      <td>2018-01-18</td>\n",
       "      <td>Sony</td>\n",
       "      <td>50</td>\n",
       "      <td>1</td>\n",
       "      <td>Dish Network</td>\n",
       "      <td>20.00</td>\n",
       "      <td>0</td>\n",
       "      <td>0</td>\n",
       "    </tr>\n",
       "    <tr>\n",
       "      <th>3</th>\n",
       "      <td>17057157</td>\n",
       "      <td>2018-01-19</td>\n",
       "      <td>Sony</td>\n",
       "      <td>32</td>\n",
       "      <td>0</td>\n",
       "      <td>Comcast</td>\n",
       "      <td>1.50</td>\n",
       "      <td>0</td>\n",
       "      <td>0</td>\n",
       "    </tr>\n",
       "    <tr>\n",
       "      <th>4</th>\n",
       "      <td>29504447</td>\n",
       "      <td>2018-01-17</td>\n",
       "      <td>Sony</td>\n",
       "      <td>32</td>\n",
       "      <td>0</td>\n",
       "      <td>Comcast</td>\n",
       "      <td>17.50</td>\n",
       "      <td>0</td>\n",
       "      <td>0</td>\n",
       "    </tr>\n",
       "  </tbody>\n",
       "</table>\n",
       "</div>"
      ],
      "text/plain": [
       "   viewer_id        date tv_make  tv_size  uhd_capable   tv_provider  \\\n",
       "0   24726768  2018-01-16    Sony       70            0       Comcast   \n",
       "1   25001464  2018-01-18    Sony       32            0           NaN   \n",
       "2   28291998  2018-01-18    Sony       50            1  Dish Network   \n",
       "3   17057157  2018-01-19    Sony       32            0       Comcast   \n",
       "4   29504447  2018-01-17    Sony       32            0       Comcast   \n",
       "\n",
       "   total_time_watched  watched  test  \n",
       "0               10.75        0     1  \n",
       "1                2.75        0     0  \n",
       "2               20.00        0     0  \n",
       "3                1.50        0     0  \n",
       "4               17.50        0     0  "
      ]
     },
     "execution_count": 39,
     "metadata": {},
     "output_type": "execute_result"
    }
   ],
   "source": [
    "viewer_data = pd.read_csv(VIEWER_DATA_FILE)\n",
    "test_data = pd.read_csv(TEST_DATA_FILE)\n",
    "print(len(test_data))\n",
    "test_data.head()"
   ]
  },
  {
   "cell_type": "code",
   "execution_count": null,
   "metadata": {},
   "outputs": [],
   "source": [
    "sns.pairplot(test_data[['tv_make', 'tv_size', 'uhd_capable', 'tv_provider', 'total_time_watched', 'watched', 'test']])"
   ]
  },
  {
   "cell_type": "code",
   "execution_count": null,
   "metadata": {},
   "outputs": [],
   "source": []
  },
  {
   "cell_type": "markdown",
   "metadata": {},
   "source": [
    "# 2. Check if Viewers who saw ads with local Mayors watched US Politics This Week less"
   ]
  },
  {
   "cell_type": "markdown",
   "metadata": {},
   "source": [
    "First I am going to check for duplicate and NaN values. There are 6 duplicate user IDs but they had those users were subjected to the same test groups with their watch value unaffected. Therefore, I am going to only retain one entry per user for those users. There are many rows without tv_provider data or viewer data as well which I will drop."
   ]
  },
  {
   "cell_type": "code",
   "execution_count": 35,
   "metadata": {},
   "outputs": [
    {
     "name": "stdout",
     "output_type": "stream",
     "text": [
      "Number of duplicate IDs: 0\n",
      "viewer_id 0\n",
      "date 0\n",
      "tv_make 0\n",
      "tv_size 0\n",
      "uhd_capable 0\n",
      "tv_provider 52718\n",
      "total_time_watched 0\n",
      "watched 0\n",
      "test 0\n",
      "gender 556\n",
      "age 556\n",
      "city 556\n"
     ]
    },
    {
     "data": {
      "text/plain": [
       "[None, None, None, None, None, None, None, None, None, None, None, None]"
      ]
     },
     "execution_count": 35,
     "metadata": {},
     "output_type": "execute_result"
    }
   ],
   "source": [
    "print(f'Number of duplicate IDs: {len(test_data) -test_data[VIEWER_ID].nunique()}')\n",
    "[print(col,test_data[col].isnull().sum()) for col in test_data.columns]"
   ]
  },
  {
   "cell_type": "code",
   "execution_count": 41,
   "metadata": {},
   "outputs": [
    {
     "name": "stdout",
     "output_type": "stream",
     "text": [
      "        viewer_id  watched  test\n",
      "192975     337110        0     1\n",
      "254424     337110        0     1\n",
      "37198      353136        0     0\n",
      "132589     353136        0     0\n",
      "22603      393446        0     1\n",
      "170071     393446        0     1\n",
      "36143      567482        1     0\n",
      "96757      567482        1     0\n",
      "38343     1112405        0     0\n",
      "93683     1112405        0     0\n",
      "161327    1152006        0     0\n",
      "295694    1152006        0     0\n"
     ]
    }
   ],
   "source": [
    "print(test_data[test_data.duplicated(subset=[VIEWER_ID],keep=False)][[VIEWER_ID,'watched','test']].sort_values(by=VIEWER_ID))"
   ]
  },
  {
   "cell_type": "code",
   "execution_count": 42,
   "metadata": {},
   "outputs": [],
   "source": [
    "test_data = test_data.drop_duplicates(subset = [VIEWER_ID])"
   ]
  },
  {
   "cell_type": "markdown",
   "metadata": {},
   "source": [
    "Now I am going to merge in the viewer data and insure we do not lose many entries during this process, which we don't."
   ]
  },
  {
   "cell_type": "code",
   "execution_count": 43,
   "metadata": {},
   "outputs": [
    {
     "name": "stdout",
     "output_type": "stream",
     "text": [
      "418020\n",
      "418020\n"
     ]
    }
   ],
   "source": [
    "print(len(test_data))\n",
    "test_data = pd.merge(test_data, viewer_data, how='left', on = VIEWER_ID )\n",
    "print(len(test_data))"
   ]
  },
  {
   "cell_type": "markdown",
   "metadata": {},
   "source": [
    "Now I am going to create a function to check what percentage of viewers which percentage watch the show. I will also create a function to split an input data frame into two based on var being 0 or 1. "
   ]
  },
  {
   "cell_type": "code",
   "execution_count": 47,
   "metadata": {},
   "outputs": [],
   "source": [
    "def check_ad_effect(df,dfname):\n",
    "    percent_watched = 100*len(df.loc[df[WATCHED_POLITICS]==1])/len(df)\n",
    "    percent_not_watched = 100*len(df.loc[df[WATCHED_POLITICS]==0])/len(df)\n",
    "    print(f'{dfname} Watched: {percent_watched} Did Not Watch: {percent_not_watched}')\n",
    "def split_df(df, var):\n",
    "    df1 = df.loc[df[var]==1]\n",
    "    df2 = df.loc[df[var]==0]\n",
    "    return df1, df2\n",
    "    "
   ]
  },
  {
   "cell_type": "code",
   "execution_count": 48,
   "metadata": {},
   "outputs": [
    {
     "name": "stdout",
     "output_type": "stream",
     "text": [
      "saw local ad Watched: 4.578000734124556 Did Not Watch: 95.42199926587544\n",
      "no local ad Watched: 6.292613304008049 Did Not Watch: 93.70738669599196\n"
     ]
    }
   ],
   "source": [
    "saw_local_ad, no_ad = split_df(test_data, SAW_LOCAL_AD)\n",
    "check_ad_effect(saw_local_ad, 'saw local ad')\n",
    "check_ad_effect(no_ad, 'no local ad')\n",
    "\n"
   ]
  },
  {
   "cell_type": "markdown",
   "metadata": {},
   "source": [
    "So, viewers that saw the local ad watched US Politics This Week ~1.73% less than viewers who did not see the ad. This is not expected, but may be due to the samples not being stratified across users by age, gender, tv_size, etc evenly. So, let's check!"
   ]
  },
  {
   "cell_type": "markdown",
   "metadata": {},
   "source": [
    "# Why less viewers that saw Local Ad watched US Politics This Week"
   ]
  },
  {
   "cell_type": "markdown",
   "metadata": {},
   "source": [
    "I am going to drop NaN rows so we can actually compare information."
   ]
  },
  {
   "cell_type": "code",
   "execution_count": 49,
   "metadata": {},
   "outputs": [
    {
     "name": "stdout",
     "output_type": "stream",
     "text": [
      "['Boston' 'San Francisco' 'Philadelphia' 'Detroit' 'Minneapolis' 'Atlanta'\n",
      " 'Chicago' 'Los Angeles' 'Dallas' 'Miami' 'New York' 'Phoenix' 'Seattle'\n",
      " 'Tampa' 'Houston']\n"
     ]
    }
   ],
   "source": [
    "no_nans = test_data.dropna()"
   ]
  },
  {
   "cell_type": "markdown",
   "metadata": {},
   "source": [
    "Also, I am going to use a function to compare variable distributions."
   ]
  },
  {
   "cell_type": "code",
   "execution_count": 50,
   "metadata": {},
   "outputs": [],
   "source": [
    "def make_bar_plots(df1, df2, df1name, df2name):\n",
    "    for col in df1.columns:\n",
    "        figure = plt.figure()\n",
    "        local_ad_ndarray = plt.hist(df1[col],  label = df1name, density = True, alpha = 0.5)\n",
    "        no_ad_ndarray = plt.hist(df2[col],  label = df2name, density = True, alpha = 0.5)\n",
    "        plt.xticks(rotation='vertical')\n",
    "        plt.title(col)\n",
    "        plt.legend()"
   ]
  },
  {
   "cell_type": "code",
   "execution_count": 51,
   "metadata": {},
   "outputs": [
    {
     "data": {
      "image/png": "[encoded data removed]",
      "text/plain": [
       "<Figure size 432x288 with 1 Axes>"
      ]
     },
     "metadata": {
      "needs_background": "light"
     },
     "output_type": "display_data"
    },
    {
     "data": {
      "image/png": "[encoded data removed]",
      "text/plain": [
       "<Figure size 432x288 with 1 Axes>"
      ]
     },
     "metadata": {
      "needs_background": "light"
     },
     "output_type": "display_data"
    },
    {
     "data": {
      "image/png": "[encoded data removed]",
      "text/plain": [
       "<Figure size 432x288 with 1 Axes>"
      ]
     },
     "metadata": {
      "needs_background": "light"
     },
     "output_type": "display_data"
    },
    {
     "data": {
      "image/png": "[encoded data removed]",
      "text/plain": [
       "<Figure size 432x288 with 1 Axes>"
      ]
     },
     "metadata": {
      "needs_background": "light"
     },
     "output_type": "display_data"
    },
    {
     "data": {
      "image/png": "[encoded data removed]",
      "text/plain": [
       "<Figure size 432x288 with 1 Axes>"
      ]
     },
     "metadata": {
      "needs_background": "light"
     },
     "output_type": "display_data"
    },
    {
     "data": {
      "image/png": "[encoded data removed]",
      "text/plain": [
       "<Figure size 432x288 with 1 Axes>"
      ]
     },
     "metadata": {
      "needs_background": "light"
     },
     "output_type": "display_data"
    },
    {
     "data": {
      "image/png": "[encoded data removed]",
      "text/plain": [
       "<Figure size 432x288 with 1 Axes>"
      ]
     },
     "metadata": {
      "needs_background": "light"
     },
     "output_type": "display_data"
    },
    {
     "data": {
      "image/png": "[encoded data removed]",
      "text/plain": [
       "<Figure size 432x288 with 1 Axes>"
      ]
     },
     "metadata": {
      "needs_background": "light"
     },
     "output_type": "display_data"
    },
    {
     "data": {
      "image/png": "[encoded data removed]",
      "text/plain": [
       "<Figure size 432x288 with 1 Axes>"
      ]
     },
     "metadata": {
      "needs_background": "light"
     },
     "output_type": "display_data"
    },
    {
     "data": {
      "image/png": "[encoded data removed]",
      "text/plain": [
       "<Figure size 432x288 with 1 Axes>"
      ]
     },
     "metadata": {
      "needs_background": "light"
     },
     "output_type": "display_data"
    },
    {
     "data": {
      "image/png": "[encoded data removed]",
      "text/plain": [
       "<Figure size 432x288 with 1 Axes>"
      ]
     },
     "metadata": {
      "needs_background": "light"
     },
     "output_type": "display_data"
    },
    {
     "data": {
      "image/png": "[encoded data removed]",
      "text/plain": [
       "<Figure size 432x288 with 1 Axes>"
      ]
     },
     "metadata": {
      "needs_background": "light"
     },
     "output_type": "display_data"
    }
   ],
   "source": [
    "saw_ad, no_ad = split_df(no_nans, SAW_LOCAL_AD)\n",
    "make_bar_plots(saw_ad, no_ad, 'Saw Local Ad', 'No Local Ad')\n"
   ]
  },
  {
   "cell_type": "markdown",
   "metadata": {},
   "source": [
    "These plots show some difference in variable distributions, but are largely similar, except the city distribution!"
   ]
  },
  {
   "cell_type": "code",
   "execution_count": 52,
   "metadata": {},
   "outputs": [
    {
     "name": "stdout",
     "output_type": "stream",
     "text": [
      "['Boston' 'Minneapolis' 'Atlanta' 'San Francisco' 'Philadelphia' 'Phoenix'\n",
      " 'New York' 'Seattle' 'Dallas' 'Miami' 'Chicago' 'Tampa' 'Houston'\n",
      " 'Detroit']\n",
      "['San Francisco' 'Philadelphia' 'Detroit' 'Chicago' 'Minneapolis'\n",
      " 'Los Angeles' 'Dallas' 'Miami' 'New York' 'Tampa' 'Houston' 'Atlanta'\n",
      " 'Boston' 'Phoenix' 'Seattle']\n"
     ]
    }
   ],
   "source": [
    "print(saw_ad['city'].unique())\n",
    "print(no_ad['city'].unique())"
   ]
  },
  {
   "cell_type": "code",
   "execution_count": null,
   "metadata": {},
   "outputs": [],
   "source": []
  },
  {
   "cell_type": "code",
   "execution_count": 32,
   "metadata": {},
   "outputs": [
    {
     "name": "stdout",
     "output_type": "stream",
     "text": [
      "saw local ad length: 204325 ---------\n",
      "number watched: 9354\n",
      "number did not watch:194971\n",
      "saw local ad Watched: 4.578000734124556 Did Not Watch: 95.42199926587544\n",
      "no local ad length: 140296 ---------\n",
      "number watched: 7017\n",
      "number did not watch:133279\n",
      "no local ad Watched: 5.001568113132235 Did Not Watch: 94.99843188686776\n"
     ]
    }
   ],
   "source": [
    "#no_la = no_nans.loc[no_nans['city'] != 'Los Angeles']\n",
    "\n",
    "check_ad_effect(saw_local_ad, 'saw local ad')\n",
    "check_ad_effect(no_ad, 'no local ad')"
   ]
  },
  {
   "cell_type": "code",
   "execution_count": 34,
   "metadata": {},
   "outputs": [
    {
     "name": "stdout",
     "output_type": "stream",
     "text": [
      "['Boston' 'San Francisco' 'Philadelphia' 'Detroit' 'Minneapolis' 'Atlanta'\n",
      " 'Chicago' 'Los Angeles' 'Dallas' 'Miami' 'New York' 'Phoenix' 'Seattle'\n",
      " 'Tampa' 'Houston']\n",
      "Boston-------------\n",
      "saw local ad Watched: 4.578000734124556 Did Not Watch: 95.42199926587544\n",
      "no local ad Watched: 5.233517817263812 Did Not Watch: 94.76648218273618\n",
      "San Francisco-------------\n",
      "saw local ad Watched: 4.578000734124556 Did Not Watch: 95.42199926587544\n",
      "no local ad Watched: 4.9887288052533565 Did Not Watch: 95.01127119474664\n",
      "Philadelphia-------------\n",
      "saw local ad Watched: 4.578000734124556 Did Not Watch: 95.42199926587544\n",
      "no local ad Watched: 2.5268817204301075 Did Not Watch: 97.47311827956989\n",
      "Detroit-------------\n",
      "saw local ad Watched: 4.578000734124556 Did Not Watch: 95.42199926587544\n",
      "no local ad Watched: 4.501903136894605 Did Not Watch: 95.49809686310539\n",
      "Minneapolis-------------\n",
      "saw local ad Watched: 4.578000734124556 Did Not Watch: 95.42199926587544\n",
      "no local ad Watched: 5.320485965647256 Did Not Watch: 94.67951403435275\n",
      "Atlanta-------------\n",
      "saw local ad Watched: 4.578000734124556 Did Not Watch: 95.42199926587544\n",
      "no local ad Watched: 5.136751298892266 Did Not Watch: 94.86324870110774\n",
      "Chicago-------------\n",
      "saw local ad Watched: 4.578000734124556 Did Not Watch: 95.42199926587544\n",
      "no local ad Watched: 4.805704099821747 Did Not Watch: 95.19429590017825\n",
      "Los Angeles-------------\n",
      "saw local ad Watched: 4.578000734124556 Did Not Watch: 95.42199926587544\n",
      "no local ad Watched: 10.298793501459123 Did Not Watch: 89.70120649854088\n",
      "Dallas-------------\n",
      "saw local ad Watched: 4.578000734124556 Did Not Watch: 95.42199926587544\n",
      "no local ad Watched: 5.114244912531239 Did Not Watch: 94.88575508746877\n",
      "Miami-------------\n",
      "saw local ad Watched: 4.578000734124556 Did Not Watch: 95.42199926587544\n",
      "no local ad Watched: 4.843148046230049 Did Not Watch: 95.15685195376994\n",
      "New York-------------\n",
      "saw local ad Watched: 4.578000734124556 Did Not Watch: 95.42199926587544\n",
      "no local ad Watched: 5.35109202536317 Did Not Watch: 94.64890797463683\n",
      "Phoenix-------------\n",
      "saw local ad Watched: 4.578000734124556 Did Not Watch: 95.42199926587544\n",
      "no local ad Watched: 5.1874615857406265 Did Not Watch: 94.81253841425938\n",
      "Seattle-------------\n",
      "saw local ad Watched: 4.578000734124556 Did Not Watch: 95.42199926587544\n",
      "no local ad Watched: 2.743041549011698 Did Not Watch: 97.25695845098831\n",
      "Tampa-------------\n",
      "saw local ad Watched: 4.578000734124556 Did Not Watch: 95.42199926587544\n",
      "no local ad Watched: 5.260463330346858 Did Not Watch: 94.73953666965315\n",
      "Houston-------------\n",
      "saw local ad Watched: 4.578000734124556 Did Not Watch: 95.42199926587544\n",
      "no local ad Watched: 5.134143987647172 Did Not Watch: 94.86585601235282\n"
     ]
    }
   ],
   "source": [
    "cities = no_nans['city'].unique()\n",
    "print(cities)\n",
    "for city in cities:\n",
    "    print(f'{city}-------------')\n",
    "    thiscity = no_nans.loc[no_nans['city']==city]\n",
    "    saw_ad, no_ad = split_df(thiscity, SAW_LOCAL_AD)\n",
    "    check_ad_effect(saw_local_ad, 'saw local ad')\n",
    "    check_ad_effect(no_ad, 'no local ad')"
   ]
  },
  {
   "cell_type": "code",
   "execution_count": null,
   "metadata": {},
   "outputs": [],
   "source": []
  }
 ],
 "metadata": {
  "kernelspec": {
   "display_name": "Python 3",
   "language": "python",
   "name": "python3"
  },
  "language_info": {
   "codemirror_mode": {
    "name": "ipython",
    "version": 3
   },
   "file_extension": ".py",
   "mimetype": "text/x-python",
   "name": "python",
   "nbconvert_exporter": "python",
   "pygments_lexer": "ipython3",
   "version": "3.8.5"
  }
 },
 "nbformat": 4,
 "nbformat_minor": 4
}
