{
 "cells": [
  {
   "cell_type": "markdown",
   "metadata": {},
   "source": [
    "# US Politics This Week Ad Analysis"
   ]
  },
  {
   "cell_type": "code",
   "execution_count": null,
   "metadata": {},
   "outputs": [],
   "source": [
    "import numpy as np\n",
    "import pandas as pd\n",
    "import matplotlib.pyplot as plt\n",
    "import seaborn as sns"
   ]
  },
  {
   "cell_type": "code",
   "execution_count": 63,
   "metadata": {},
   "outputs": [],
   "source": [
    "#CONSTANTS\n",
    "TEST_DATA_FILE = 'test_data.csv'\n",
    "VIEWER_DATA_FILE = 'viewer_data.csv'\n",
    "VIEWER_ID = 'viewer_id'\n",
    "SAW_LOCAL_AD = 'test'\n",
    "WATCHED_POLITICS = 'watched'"
   ]
  },
  {
   "cell_type": "markdown",
   "metadata": {},
   "source": [
    "# 1. Read Test dataset and display columns"
   ]
  },
  {
   "cell_type": "code",
   "execution_count": 64,
   "metadata": {},
   "outputs": [
    {
     "name": "stdout",
     "output_type": "stream",
     "text": [
      "418026\n"
     ]
    },
    {
     "data": {
      "text/html": [
       "<div>\n",
       "<style scoped>\n",
       "    .dataframe tbody tr th:only-of-type {\n",
       "        vertical-align: middle;\n",
       "    }\n",
       "\n",
       "    .dataframe tbody tr th {\n",
       "        vertical-align: top;\n",
       "    }\n",
       "\n",
       "    .dataframe thead th {\n",
       "        text-align: right;\n",
       "    }\n",
       "</style>\n",
       "<table border=\"1\" class=\"dataframe\">\n",
       "  <thead>\n",
       "    <tr style=\"text-align: right;\">\n",
       "      <th></th>\n",
       "      <th>viewer_id</th>\n",
       "      <th>date</th>\n",
       "      <th>tv_make</th>\n",
       "      <th>tv_size</th>\n",
       "      <th>uhd_capable</th>\n",
       "      <th>tv_provider</th>\n",
       "      <th>total_time_watched</th>\n",
       "      <th>watched</th>\n",
       "      <th>test</th>\n",
       "    </tr>\n",
       "  </thead>\n",
       "  <tbody>\n",
       "    <tr>\n",
       "      <th>0</th>\n",
       "      <td>24726768</td>\n",
       "      <td>2018-01-16</td>\n",
       "      <td>Sony</td>\n",
       "      <td>70</td>\n",
       "      <td>0</td>\n",
       "      <td>Comcast</td>\n",
       "      <td>10.75</td>\n",
       "      <td>0</td>\n",
       "      <td>1</td>\n",
       "    </tr>\n",
       "    <tr>\n",
       "      <th>1</th>\n",
       "      <td>25001464</td>\n",
       "      <td>2018-01-18</td>\n",
       "      <td>Sony</td>\n",
       "      <td>32</td>\n",
       "      <td>0</td>\n",
       "      <td>NaN</td>\n",
       "      <td>2.75</td>\n",
       "      <td>0</td>\n",
       "      <td>0</td>\n",
       "    </tr>\n",
       "    <tr>\n",
       "      <th>2</th>\n",
       "      <td>28291998</td>\n",
       "      <td>2018-01-18</td>\n",
       "      <td>Sony</td>\n",
       "      <td>50</td>\n",
       "      <td>1</td>\n",
       "      <td>Dish Network</td>\n",
       "      <td>20.00</td>\n",
       "      <td>0</td>\n",
       "      <td>0</td>\n",
       "    </tr>\n",
       "    <tr>\n",
       "      <th>3</th>\n",
       "      <td>17057157</td>\n",
       "      <td>2018-01-19</td>\n",
       "      <td>Sony</td>\n",
       "      <td>32</td>\n",
       "      <td>0</td>\n",
       "      <td>Comcast</td>\n",
       "      <td>1.50</td>\n",
       "      <td>0</td>\n",
       "      <td>0</td>\n",
       "    </tr>\n",
       "    <tr>\n",
       "      <th>4</th>\n",
       "      <td>29504447</td>\n",
       "      <td>2018-01-17</td>\n",
       "      <td>Sony</td>\n",
       "      <td>32</td>\n",
       "      <td>0</td>\n",
       "      <td>Comcast</td>\n",
       "      <td>17.50</td>\n",
       "      <td>0</td>\n",
       "      <td>0</td>\n",
       "    </tr>\n",
       "  </tbody>\n",
       "</table>\n",
       "</div>"
      ],
      "text/plain": [
       "   viewer_id        date tv_make  tv_size  uhd_capable   tv_provider  \\\n",
       "0   24726768  2018-01-16    Sony       70            0       Comcast   \n",
       "1   25001464  2018-01-18    Sony       32            0           NaN   \n",
       "2   28291998  2018-01-18    Sony       50            1  Dish Network   \n",
       "3   17057157  2018-01-19    Sony       32            0       Comcast   \n",
       "4   29504447  2018-01-17    Sony       32            0       Comcast   \n",
       "\n",
       "   total_time_watched  watched  test  \n",
       "0               10.75        0     1  \n",
       "1                2.75        0     0  \n",
       "2               20.00        0     0  \n",
       "3                1.50        0     0  \n",
       "4               17.50        0     0  "
      ]
     },
     "execution_count": 64,
     "metadata": {},
     "output_type": "execute_result"
    }
   ],
   "source": [
    "viewer_data = pd.read_csv(VIEWER_DATA_FILE)\n",
    "test_data = pd.read_csv(TEST_DATA_FILE)\n",
    "print(len(test_data))\n",
    "test_data.head()"
   ]
  },
  {
   "cell_type": "code",
   "execution_count": null,
   "metadata": {},
   "outputs": [],
   "source": [
    "sns.pairplot(test_data[['tv_make', 'tv_size', 'uhd_capable', 'tv_provider', 'total_time_watched', 'watched', 'test']])"
   ]
  },
  {
   "cell_type": "markdown",
   "metadata": {},
   "source": [
    "# 2. Check if Viewers who saw ads with local Mayors watched US Politics This Week less"
   ]
  },
  {
   "cell_type": "markdown",
   "metadata": {},
   "source": [
    "let's first check for null values and duplicate viewer ids. Ok there are 6 duplicate viewer IDs."
   ]
  },
  {
   "cell_type": "code",
   "execution_count": 65,
   "metadata": {},
   "outputs": [
    {
     "name": "stdout",
     "output_type": "stream",
     "text": [
      "Number of duplicate IDs: 6\n",
      "viewer_id 0\n",
      "date 0\n",
      "tv_make 0\n",
      "tv_size 0\n",
      "uhd_capable 0\n",
      "tv_provider 52720\n",
      "total_time_watched 0\n",
      "watched 0\n",
      "test 0\n"
     ]
    },
    {
     "data": {
      "text/plain": [
       "[None, None, None, None, None, None, None, None, None]"
      ]
     },
     "execution_count": 65,
     "metadata": {},
     "output_type": "execute_result"
    }
   ],
   "source": [
    "print(f'Number of duplicate IDs: {len(test_data) -test_data[VIEWER_ID].nunique()}')\n",
    "[print(col,test_data[col].isnull().sum()) for col in test_data.columns]"
   ]
  },
  {
   "cell_type": "code",
   "execution_count": 55,
   "metadata": {},
   "outputs": [
    {
     "name": "stdout",
     "output_type": "stream",
     "text": [
      "        viewer_id  watched  test\n",
      "192975     337110        0     1\n",
      "254424     337110        0     1\n",
      "37198      353136        0     0\n",
      "132589     353136        0     0\n",
      "22603      393446        0     1\n",
      "170071     393446        0     1\n",
      "36143      567482        1     0\n",
      "96757      567482        1     0\n",
      "38343     1112405        0     0\n",
      "93683     1112405        0     0\n",
      "161327    1152006        0     0\n",
      "295694    1152006        0     0\n"
     ]
    }
   ],
   "source": [
    "print(test_data[test_data.duplicated(subset=[VIEWER_ID],keep=False)][[VIEWER_ID,'watched','test']].sort_values(by=VIEWER_ID))"
   ]
  },
  {
   "cell_type": "code",
   "execution_count": 66,
   "metadata": {},
   "outputs": [
    {
     "data": {
      "text/plain": [
       "(array([213695.,      0.,      0.,      0.,      0.,      0.,      0.,\n",
       "             0.,      0., 204325.]),\n",
       " array([0. , 0.1, 0.2, 0.3, 0.4, 0.5, 0.6, 0.7, 0.8, 0.9, 1. ]),\n",
       " <a list of 10 Patch objects>)"
      ]
     },
     "execution_count": 66,
     "metadata": {},
     "output_type": "execute_result"
    },
    {
     "data": {
      "image/png": "[encoded data removed]",
      "text/plain": [
       "<Figure size 432x288 with 1 Axes>"
      ]
     },
     "metadata": {
      "needs_background": "light"
     },
     "output_type": "display_data"
    }
   ],
   "source": [
    "test_data = test_data.drop_duplicates(subset = [VIEWER_ID])\n",
    "plt.hist(test_data[SAW_LOCAL_AD])"
   ]
  },
  {
   "cell_type": "code",
   "execution_count": 26,
   "metadata": {},
   "outputs": [
    {
     "data": {
      "text/plain": [
       "(array([395224.,      0.,      0.,      0.,      0.,      0.,      0.,\n",
       "             0.,      0.,  22802.]),\n",
       " array([0. , 0.1, 0.2, 0.3, 0.4, 0.5, 0.6, 0.7, 0.8, 0.9, 1. ]),\n",
       " <a list of 10 Patch objects>)"
      ]
     },
     "execution_count": 26,
     "metadata": {},
     "output_type": "execute_result"
    },
    {
     "data": {
      "image/png": "[encoded data removed]",
      "text/plain": [
       "<Figure size 432x288 with 1 Axes>"
      ]
     },
     "metadata": {
      "needs_background": "light"
     },
     "output_type": "display_data"
    }
   ],
   "source": [
    "plt.hist(test_data[WATCHED_POLITICS])"
   ]
  },
  {
   "cell_type": "code",
   "execution_count": 76,
   "metadata": {},
   "outputs": [
    {
     "name": "stdout",
     "output_type": "stream",
     "text": [
      "saw local ad length: 204325 ---------\n",
      "number watched: 9354\n",
      "number did not watch:194971\n",
      "Saw Local Ad: Watched: 4.578000734124556 Did Not Watch: 95.42199926587544\n",
      "no local ad length: 213695 ---------\n",
      "number watched: 13447\n",
      "number did not watch:200248\n",
      "Saw Local Ad: Watched: 6.292613304008049 Did Not Watch: 93.70738669599196\n"
     ]
    }
   ],
   "source": [
    "dfs = []\n",
    "names = ['saw local ad', 'no local ad']\n",
    "saw_ad = test_data.loc[test_data[SAW_LOCAL_AD]==1]\n",
    "no_ad = test_data.loc[test_data[SAW_LOCAL_AD]==0]\n",
    "dfs.append(saw_ad)\n",
    "dfs.append(no_ad)\n",
    "for df, name in zip(dfs, names):\n",
    "    print(f'{name} length: {len(df)} ---------')\n",
    "    print(f'number watched: {len(df.loc[df[WATCHED_POLITICS]==1])}')\n",
    "    print(f'number did not watch:{len(df.loc[df[WATCHED_POLITICS]==0])}')\n",
    "    percent_watched = 100*len(df.loc[df[WATCHED_POLITICS]==1])/len(df)\n",
    "    percent_not_watched = 100*len(df.loc[df[WATCHED_POLITICS]==0])/len(df)\n",
    "    print(f'Saw Local Ad: Watched: {percent_watched} Did Not Watch: {percent_not_watched}')\n"
   ]
  },
  {
   "cell_type": "markdown",
   "metadata": {},
   "source": [
    "So, viewers that saw the local ad watched US Politics This Week ~1.73% less than viewers who did not see the ad. This is not expected, but may be due to the samples not being stratified across users by age, gender, tv_size, etc evenly."
   ]
  },
  {
   "cell_type": "markdown",
   "metadata": {},
   "source": [
    "# Why less viewers that saw Local Ad watched US Politics This Week"
   ]
  },
  {
   "cell_type": "markdown",
   "metadata": {},
   "source": [
    "Let's first merge in viewer data, and double check that we do not lose an viewers due to not having their viewer data"
   ]
  },
  {
   "cell_type": "code",
   "execution_count": 77,
   "metadata": {},
   "outputs": [
    {
     "name": "stdout",
     "output_type": "stream",
     "text": [
      "204325\n",
      "204325\n",
      "no ad\n",
      "213695\n",
      "213695\n"
     ]
    }
   ],
   "source": [
    "print(len(saw_local_ad))\n",
    "saw_local_ad = pd.merge(saw_ad, viewer_data, how='left', on = VIEWER_ID )\n",
    "print(len(saw_local_ad))\n",
    "print(len(no_ad))\n",
    "no_ad = pd.merge(no_ad, viewer_data, how = 'left', on = VIEWER_ID)\n",
    "print(len(no_ad))\n"
   ]
  },
  {
   "cell_type": "code",
   "execution_count": null,
   "metadata": {},
   "outputs": [],
   "source": []
  }
 ],
 "metadata": {
  "kernelspec": {
   "display_name": "Python 3",
   "language": "python",
   "name": "python3"
  },
  "language_info": {
   "codemirror_mode": {
    "name": "ipython",
    "version": 3
   },
   "file_extension": ".py",
   "mimetype": "text/x-python",
   "name": "python",
   "nbconvert_exporter": "python",
   "pygments_lexer": "ipython3",
   "version": "3.8.5"
  }
 },
 "nbformat": 4,
 "nbformat_minor": 4
}
