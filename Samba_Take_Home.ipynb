{
 "cells": [
  {
   "cell_type": "markdown",
   "metadata": {},
   "source": [
    "# US Politics This Week Ad Analysis"
   ]
  },
  {
   "cell_type": "code",
   "execution_count": 1,
   "metadata": {},
   "outputs": [],
   "source": [
    "import numpy as np\n",
    "import pandas as pd\n",
    "import matplotlib.pyplot as plt\n",
    "import seaborn as sns"
   ]
  },
  {
   "cell_type": "code",
   "execution_count": 2,
   "metadata": {},
   "outputs": [],
   "source": [
    "#CONSTANTS\n",
    "TEST_DATA_FILE = 'test_data.csv'\n",
    "VIEWER_DATA_FILE = 'viewer_data.csv'\n",
    "VIEWER_ID = 'viewer_id'\n",
    "SAW_LOCAL_AD = 'test'\n",
    "WATCHED_POLITICS = 'watched'"
   ]
  },
  {
   "cell_type": "markdown",
   "metadata": {},
   "source": [
    "# 1. Read Test dataset and display columns"
   ]
  },
  {
   "cell_type": "code",
   "execution_count": 3,
   "metadata": {},
   "outputs": [
    {
     "name": "stdout",
     "output_type": "stream",
     "text": [
      "418026\n"
     ]
    },
    {
     "data": {
      "text/html": [
       "<div>\n",
       "<style scoped>\n",
       "    .dataframe tbody tr th:only-of-type {\n",
       "        vertical-align: middle;\n",
       "    }\n",
       "\n",
       "    .dataframe tbody tr th {\n",
       "        vertical-align: top;\n",
       "    }\n",
       "\n",
       "    .dataframe thead th {\n",
       "        text-align: right;\n",
       "    }\n",
       "</style>\n",
       "<table border=\"1\" class=\"dataframe\">\n",
       "  <thead>\n",
       "    <tr style=\"text-align: right;\">\n",
       "      <th></th>\n",
       "      <th>viewer_id</th>\n",
       "      <th>date</th>\n",
       "      <th>tv_make</th>\n",
       "      <th>tv_size</th>\n",
       "      <th>uhd_capable</th>\n",
       "      <th>tv_provider</th>\n",
       "      <th>total_time_watched</th>\n",
       "      <th>watched</th>\n",
       "      <th>test</th>\n",
       "    </tr>\n",
       "  </thead>\n",
       "  <tbody>\n",
       "    <tr>\n",
       "      <th>0</th>\n",
       "      <td>24726768</td>\n",
       "      <td>2018-01-16</td>\n",
       "      <td>Sony</td>\n",
       "      <td>70</td>\n",
       "      <td>0</td>\n",
       "      <td>Comcast</td>\n",
       "      <td>10.75</td>\n",
       "      <td>0</td>\n",
       "      <td>1</td>\n",
       "    </tr>\n",
       "    <tr>\n",
       "      <th>1</th>\n",
       "      <td>25001464</td>\n",
       "      <td>2018-01-18</td>\n",
       "      <td>Sony</td>\n",
       "      <td>32</td>\n",
       "      <td>0</td>\n",
       "      <td>NaN</td>\n",
       "      <td>2.75</td>\n",
       "      <td>0</td>\n",
       "      <td>0</td>\n",
       "    </tr>\n",
       "    <tr>\n",
       "      <th>2</th>\n",
       "      <td>28291998</td>\n",
       "      <td>2018-01-18</td>\n",
       "      <td>Sony</td>\n",
       "      <td>50</td>\n",
       "      <td>1</td>\n",
       "      <td>Dish Network</td>\n",
       "      <td>20.00</td>\n",
       "      <td>0</td>\n",
       "      <td>0</td>\n",
       "    </tr>\n",
       "    <tr>\n",
       "      <th>3</th>\n",
       "      <td>17057157</td>\n",
       "      <td>2018-01-19</td>\n",
       "      <td>Sony</td>\n",
       "      <td>32</td>\n",
       "      <td>0</td>\n",
       "      <td>Comcast</td>\n",
       "      <td>1.50</td>\n",
       "      <td>0</td>\n",
       "      <td>0</td>\n",
       "    </tr>\n",
       "    <tr>\n",
       "      <th>4</th>\n",
       "      <td>29504447</td>\n",
       "      <td>2018-01-17</td>\n",
       "      <td>Sony</td>\n",
       "      <td>32</td>\n",
       "      <td>0</td>\n",
       "      <td>Comcast</td>\n",
       "      <td>17.50</td>\n",
       "      <td>0</td>\n",
       "      <td>0</td>\n",
       "    </tr>\n",
       "  </tbody>\n",
       "</table>\n",
       "</div>"
      ],
      "text/plain": [
       "   viewer_id        date tv_make  tv_size  uhd_capable   tv_provider  \\\n",
       "0   24726768  2018-01-16    Sony       70            0       Comcast   \n",
       "1   25001464  2018-01-18    Sony       32            0           NaN   \n",
       "2   28291998  2018-01-18    Sony       50            1  Dish Network   \n",
       "3   17057157  2018-01-19    Sony       32            0       Comcast   \n",
       "4   29504447  2018-01-17    Sony       32            0       Comcast   \n",
       "\n",
       "   total_time_watched  watched  test  \n",
       "0               10.75        0     1  \n",
       "1                2.75        0     0  \n",
       "2               20.00        0     0  \n",
       "3                1.50        0     0  \n",
       "4               17.50        0     0  "
      ]
     },
     "execution_count": 3,
     "metadata": {},
     "output_type": "execute_result"
    }
   ],
   "source": [
    "viewer_data = pd.read_csv(VIEWER_DATA_FILE)\n",
    "test_data = pd.read_csv(TEST_DATA_FILE)\n",
    "print(len(test_data))\n",
    "test_data.head()"
   ]
  },
  {
   "cell_type": "code",
   "execution_count": null,
   "metadata": {},
   "outputs": [],
   "source": [
    "sns.pairplot(test_data[['tv_make', 'tv_size', 'uhd_capable', 'tv_provider', 'total_time_watched', 'watched', 'test']])"
   ]
  },
  {
   "cell_type": "code",
   "execution_count": null,
   "metadata": {},
   "outputs": [],
   "source": []
  },
  {
   "cell_type": "markdown",
   "metadata": {},
   "source": [
    "# 2. Check if Viewers who saw ads with local Mayors watched US Politics This Week less"
   ]
  },
  {
   "cell_type": "markdown",
   "metadata": {},
   "source": [
    "let's first check for null values and duplicate viewer ids. Ok there are 6 duplicate viewer IDs."
   ]
  },
  {
   "cell_type": "code",
   "execution_count": null,
   "metadata": {},
   "outputs": [],
   "source": [
    "print(f'Number of duplicate IDs: {len(test_data) -test_data[VIEWER_ID].nunique()}')\n",
    "[print(col,test_data[col].isnull().sum()) for col in test_data.columns]"
   ]
  },
  {
   "cell_type": "code",
   "execution_count": null,
   "metadata": {},
   "outputs": [],
   "source": [
    "print(test_data[test_data.duplicated(subset=[VIEWER_ID],keep=False)][[VIEWER_ID,'watched','test']].sort_values(by=VIEWER_ID))"
   ]
  },
  {
   "cell_type": "code",
   "execution_count": 4,
   "metadata": {},
   "outputs": [
    {
     "data": {
      "text/plain": [
       "(array([213695.,      0.,      0.,      0.,      0.,      0.,      0.,\n",
       "             0.,      0., 204325.]),\n",
       " array([0. , 0.1, 0.2, 0.3, 0.4, 0.5, 0.6, 0.7, 0.8, 0.9, 1. ]),\n",
       " <a list of 10 Patch objects>)"
      ]
     },
     "execution_count": 4,
     "metadata": {},
     "output_type": "execute_result"
    },
    {
     "data": {
      "image/png": "[encoded data removed]",
      "text/plain": [
       "<Figure size 432x288 with 1 Axes>"
      ]
     },
     "metadata": {
      "needs_background": "light"
     },
     "output_type": "display_data"
    }
   ],
   "source": [
    "test_data = test_data.drop_duplicates(subset = [VIEWER_ID])\n",
    "plt.hist(test_data[SAW_LOCAL_AD])"
   ]
  },
  {
   "cell_type": "code",
   "execution_count": 5,
   "metadata": {},
   "outputs": [
    {
     "name": "stdout",
     "output_type": "stream",
     "text": [
      "418020\n",
      "418020\n"
     ]
    }
   ],
   "source": [
    "print(len(test_data))\n",
    "test_data = pd.merge(test_data, viewer_data, how='left', on = VIEWER_ID )\n",
    "print(len(test_data))"
   ]
  },
  {
   "cell_type": "code",
   "execution_count": null,
   "metadata": {},
   "outputs": [],
   "source": [
    "\n",
    "\n"
   ]
  },
  {
   "cell_type": "code",
   "execution_count": null,
   "metadata": {},
   "outputs": [],
   "source": [
    "plt.hist(test_data[WATCHED_POLITICS])"
   ]
  },
  {
   "cell_type": "code",
   "execution_count": 12,
   "metadata": {},
   "outputs": [],
   "source": [
    "def check_ad_effect(df,dfname):\n",
    "    print(f'{dfname} length: {len(df)} ---------')\n",
    "    print(f'number watched: {len(df.loc[df[WATCHED_POLITICS]==1])}')\n",
    "    print(f'number did not watch:{len(df.loc[df[WATCHED_POLITICS]==0])}')\n",
    "    percent_watched = 100*len(df.loc[df[WATCHED_POLITICS]==1])/len(df)\n",
    "    percent_not_watched = 100*len(df.loc[df[WATCHED_POLITICS]==0])/len(df)\n",
    "    print(f'Saw Local Ad: Watched: {percent_watched} Did Not Watch: {percent_not_watched}')\n",
    "    "
   ]
  },
  {
   "cell_type": "code",
   "execution_count": 13,
   "metadata": {},
   "outputs": [
    {
     "name": "stdout",
     "output_type": "stream",
     "text": [
      "saw local ad length: 204325 ---------\n",
      "number watched: 9354\n",
      "number did not watch:194971\n",
      "Saw Local Ad: Watched: 4.578000734124556 Did Not Watch: 95.42199926587544\n",
      "no local ad length: 213695 ---------\n",
      "number watched: 13447\n",
      "number did not watch:200248\n",
      "Saw Local Ad: Watched: 6.292613304008049 Did Not Watch: 93.70738669599196\n"
     ]
    }
   ],
   "source": [
    "saw_local_ad = test_data.loc[test_data[SAW_LOCAL_AD]==1]\n",
    "no_ad = test_data.loc[test_data[SAW_LOCAL_AD]==0]\n",
    "check_ad_effect(saw_local_ad, 'saw local ad')\n",
    "check_ad_effect(no_ad, 'no local ad')\n",
    "\n"
   ]
  },
  {
   "cell_type": "markdown",
   "metadata": {},
   "source": [
    "So, viewers that saw the local ad watched US Politics This Week ~1.73% less than viewers who did not see the ad. This is not expected, but may be due to the samples not being stratified across users by age, gender, tv_size, etc evenly."
   ]
  },
  {
   "cell_type": "markdown",
   "metadata": {},
   "source": [
    "# Why less viewers that saw Local Ad watched US Politics This Week"
   ]
  },
  {
   "cell_type": "markdown",
   "metadata": {},
   "source": [
    "Let's first merge in viewer data, and double check that we do not lose an viewers due to not having their viewer data"
   ]
  },
  {
   "cell_type": "code",
   "execution_count": null,
   "metadata": {},
   "outputs": [],
   "source": [
    "\n"
   ]
  },
  {
   "cell_type": "code",
   "execution_count": null,
   "metadata": {},
   "outputs": [],
   "source": [
    "#df['zipcode'] = df.zipcode.astype(str)\n",
    "print(saw_local_ad.dtypes)\n",
    "#saw_local_ad['tv_provider'] = saw_local_ad['tv_provider'].astype('category')\n",
    "#df['zipcode'] = df.zipcode.astype('category')\n",
    "print(saw_local_ad['tv_provider'].dtypes)\n",
    "print(saw_local_ad['tv_provider'].unique())\n"
   ]
  },
  {
   "cell_type": "code",
   "execution_count": null,
   "metadata": {},
   "outputs": [],
   "source": [
    "\n"
   ]
  },
  {
   "cell_type": "code",
   "execution_count": null,
   "metadata": {},
   "outputs": [],
   "source": [
    "#nans = test_data[test_data.isna().any(axis=1)]\n",
    "#nans = test_data[test_data['city'].isnull()]\n",
    "#print(nans)#print(len(nans))"
   ]
  },
  {
   "cell_type": "code",
   "execution_count": null,
   "metadata": {},
   "outputs": [],
   "source": [
    "questionable = ['tv_provider', 'gender', 'age', 'city']\n",
    "for col in questionable:\n",
    "    nans = test_data[test_data[col].isnull()]\n",
    "    print(f'{col} has {len(nans)} NaN values')\n",
    "#for col in questionable:\n",
    "#nans = test_data[test_data['tv_provider'].isnull()]\n",
    "print(len(nans))\n",
    "#plt.hist(nans['test'])\n",
    "#plt.hist(nans['watched'])"
   ]
  },
  {
   "cell_type": "code",
   "execution_count": 21,
   "metadata": {},
   "outputs": [
    {
     "name": "stdout",
     "output_type": "stream",
     "text": [
      "178608\n",
      "140296\n",
      "viewer_id\n",
      "10\n",
      "11\n",
      "date\n",
      "10\n",
      "11\n",
      "tv_make\n",
      "10\n",
      "11\n",
      "tv_size\n",
      "10\n",
      "11\n",
      "uhd_capable\n",
      "10\n",
      "11\n",
      "tv_provider\n",
      "10\n",
      "11\n",
      "total_time_watched\n",
      "10\n",
      "11\n",
      "watched\n",
      "(array([9.53899041, 0.        , 0.        , 0.        , 0.        ,\n",
      "       0.        , 0.        , 0.        , 0.        , 0.46100959]), array([0. , 0.1, 0.2, 0.3, 0.4, 0.5, 0.6, 0.7, 0.8, 0.9, 1. ]), <a list of 10 Patch objects>)\n",
      "(array([9.49984319, 0.        , 0.        , 0.        , 0.        ,\n",
      "       0.        , 0.        , 0.        , 0.        , 0.50015681]), array([0. , 0.1, 0.2, 0.3, 0.4, 0.5, 0.6, 0.7, 0.8, 0.9, 1. ]), <a list of 10 Patch objects>)\n",
      "10\n",
      "11\n",
      "test\n",
      "10\n",
      "11\n",
      "gender\n",
      "10\n",
      "11\n",
      "age\n",
      "10\n",
      "11\n",
      "city\n",
      "10\n",
      "11\n"
     ]
    },
    {
     "data": {
      "image/png": "[encoded data removed]",
      "text/plain": [
       "<Figure size 432x288 with 1 Axes>"
      ]
     },
     "metadata": {
      "needs_background": "light"
     },
     "output_type": "display_data"
    },
    {
     "data": {
      "image/png": "[encoded data removed]",
      "text/plain": [
       "<Figure size 432x288 with 1 Axes>"
      ]
     },
     "metadata": {
      "needs_background": "light"
     },
     "output_type": "display_data"
    },
    {
     "data": {
      "image/png": "[encoded data removed]",
      "text/plain": [
       "<Figure size 432x288 with 1 Axes>"
      ]
     },
     "metadata": {
      "needs_background": "light"
     },
     "output_type": "display_data"
    },
    {
     "data": {
      "image/png": "[encoded data removed]",
      "text/plain": [
       "<Figure size 432x288 with 1 Axes>"
      ]
     },
     "metadata": {
      "needs_background": "light"
     },
     "output_type": "display_data"
    },
    {
     "data": {
      "image/png": "[encoded data removed]",
      "text/plain": [
       "<Figure size 432x288 with 1 Axes>"
      ]
     },
     "metadata": {
      "needs_background": "light"
     },
     "output_type": "display_data"
    },
    {
     "data": {
      "image/png": "[encoded data removed]",
      "text/plain": [
       "<Figure size 432x288 with 1 Axes>"
      ]
     },
     "metadata": {
      "needs_background": "light"
     },
     "output_type": "display_data"
    },
    {
     "data": {
      "image/png": "[encoded data removed]",
      "text/plain": [
       "<Figure size 432x288 with 1 Axes>"
      ]
     },
     "metadata": {
      "needs_background": "light"
     },
     "output_type": "display_data"
    },
    {
     "data": {
      "image/png": "[encoded data removed]",
      "text/plain": [
       "<Figure size 432x288 with 1 Axes>"
      ]
     },
     "metadata": {
      "needs_background": "light"
     },
     "output_type": "display_data"
    },
    {
     "data": {
      "image/png": "[encoded data removed]",
      "text/plain": [
       "<Figure size 432x288 with 1 Axes>"
      ]
     },
     "metadata": {
      "needs_background": "light"
     },
     "output_type": "display_data"
    },
    {
     "data": {
      "image/png": "[encoded data removed]",
      "text/plain": [
       "<Figure size 432x288 with 1 Axes>"
      ]
     },
     "metadata": {
      "needs_background": "light"
     },
     "output_type": "display_data"
    },
    {
     "data": {
      "image/png": "[encoded data removed]",
      "text/plain": [
       "<Figure size 432x288 with 1 Axes>"
      ]
     },
     "metadata": {
      "needs_background": "light"
     },
     "output_type": "display_data"
    },
    {
     "data": {
      "image/png": "[encoded data removed]",
      "text/plain": [
       "<Figure size 432x288 with 1 Axes>"
      ]
     },
     "metadata": {
      "needs_background": "light"
     },
     "output_type": "display_data"
    }
   ],
   "source": [
    "no_nans = test_data.dropna()\n",
    "no_la = no_nans.loc[no_nans['city'] != 'Los Angeles']\n",
    "\n",
    "saw_ad, no_ad = split_df(no_la, SAW_LOCAL_AD)\n",
    "print(len(saw_ad))\n",
    "print(len(no_ad))\n",
    "#print('SAW AD')\n",
    "#print(sorted(saw_ad['city'].unique()))\n",
    "#print('NO AD')\n",
    "#print(sorted(no_ad['city'].unique()))\n",
    "#cities = test_data['city'].unique()\n",
    "make_bar_plots(saw_ad, no_ad, 'Saw Local Ad', 'No Local Ad')\n",
    "\n",
    "#print(no_nans['city'].unique())"
   ]
  },
  {
   "cell_type": "code",
   "execution_count": 22,
   "metadata": {},
   "outputs": [],
   "source": [
    "def make_bar_plots(df1, df2, df1name, df2name):\n",
    "    for col in df1.columns:\n",
    "        figure = plt.figure()\n",
    "        local_ad_ndarray = plt.hist(df1[col],  label = df1name, density = True, alpha = 0.5)\n",
    "        no_ad_ndarray = plt.hist(df2[col],  label = df2name, density = True, alpha = 0.5)\n",
    "        plt.xticks(rotation='vertical')\n",
    "        plt.title(col)\n",
    "        plt.legend()"
   ]
  },
  {
   "cell_type": "code",
   "execution_count": 15,
   "metadata": {},
   "outputs": [],
   "source": [
    "def split_df(df, var):\n",
    "    df1 = df.loc[df[var]==1]\n",
    "    df2 = df.loc[df[var]==0]\n",
    "    return df1, df2"
   ]
  },
  {
   "cell_type": "code",
   "execution_count": 23,
   "metadata": {},
   "outputs": [
    {
     "name": "stdout",
     "output_type": "stream",
     "text": [
      "saw local ad length: 204325 ---------\n",
      "number watched: 9354\n",
      "number did not watch:194971\n",
      "Saw Local Ad: Watched: 4.578000734124556 Did Not Watch: 95.42199926587544\n",
      "no local ad length: 140296 ---------\n",
      "number watched: 7017\n",
      "number did not watch:133279\n",
      "Saw Local Ad: Watched: 5.001568113132235 Did Not Watch: 94.99843188686776\n"
     ]
    }
   ],
   "source": [
    "check_ad_effect(saw_local_ad, 'saw local ad')\n",
    "check_ad_effect(no_ad, 'no local ad')"
   ]
  },
  {
   "cell_type": "code",
   "execution_count": 27,
   "metadata": {},
   "outputs": [
    {
     "name": "stdout",
     "output_type": "stream",
     "text": [
      "['Boston' 'San Francisco' 'Philadelphia' 'Detroit' 'Minneapolis' 'Atlanta'\n",
      " 'Chicago' 'Los Angeles' 'Dallas' 'Miami' 'New York' 'Phoenix' 'Seattle'\n",
      " 'Tampa' 'Houston']\n",
      "Boston-------------\n",
      "saw local ad length: 204325 ---------\n",
      "number watched: 9354\n",
      "number did not watch:194971\n",
      "Saw Local Ad: Watched: 4.578000734124556 Did Not Watch: 95.42199926587544\n",
      "no local ad length: 10299 ---------\n",
      "number watched: 539\n",
      "number did not watch:9760\n",
      "Saw Local Ad: Watched: 5.233517817263812 Did Not Watch: 94.76648218273618\n",
      "San Francisco-------------\n",
      "saw local ad length: 204325 ---------\n",
      "number watched: 9354\n",
      "number did not watch:194971\n",
      "Saw Local Ad: Watched: 4.578000734124556 Did Not Watch: 95.42199926587544\n",
      "no local ad length: 10203 ---------\n",
      "number watched: 509\n",
      "number did not watch:9694\n",
      "Saw Local Ad: Watched: 4.9887288052533565 Did Not Watch: 95.01127119474664\n",
      "Philadelphia-------------\n",
      "saw local ad length: 204325 ---------\n",
      "number watched: 9354\n",
      "number did not watch:194971\n",
      "Saw Local Ad: Watched: 4.578000734124556 Did Not Watch: 95.42199926587544\n",
      "no local ad length: 3720 ---------\n",
      "number watched: 94\n",
      "number did not watch:3626\n",
      "Saw Local Ad: Watched: 2.5268817204301075 Did Not Watch: 97.47311827956989\n",
      "Detroit-------------\n",
      "saw local ad length: 204325 ---------\n",
      "number watched: 9354\n",
      "number did not watch:194971\n",
      "Saw Local Ad: Watched: 4.578000734124556 Did Not Watch: 95.42199926587544\n",
      "no local ad length: 7619 ---------\n",
      "number watched: 343\n",
      "number did not watch:7276\n",
      "Saw Local Ad: Watched: 4.501903136894605 Did Not Watch: 95.49809686310539\n",
      "Minneapolis-------------\n",
      "saw local ad length: 204325 ---------\n",
      "number watched: 9354\n",
      "number did not watch:194971\n",
      "Saw Local Ad: Watched: 4.578000734124556 Did Not Watch: 95.42199926587544\n",
      "no local ad length: 7161 ---------\n",
      "number watched: 381\n",
      "number did not watch:6780\n",
      "Saw Local Ad: Watched: 5.320485965647256 Did Not Watch: 94.67951403435275\n",
      "Atlanta-------------\n",
      "saw local ad length: 204325 ---------\n",
      "number watched: 9354\n",
      "number did not watch:194971\n",
      "Saw Local Ad: Watched: 4.578000734124556 Did Not Watch: 95.42199926587544\n",
      "no local ad length: 10201 ---------\n",
      "number watched: 524\n",
      "number did not watch:9677\n",
      "Saw Local Ad: Watched: 5.136751298892266 Did Not Watch: 94.86324870110774\n",
      "Chicago-------------\n",
      "saw local ad length: 204325 ---------\n",
      "number watched: 9354\n",
      "number did not watch:194971\n",
      "Saw Local Ad: Watched: 4.578000734124556 Did Not Watch: 95.42199926587544\n",
      "no local ad length: 14025 ---------\n",
      "number watched: 674\n",
      "number did not watch:13351\n",
      "Saw Local Ad: Watched: 4.805704099821747 Did Not Watch: 95.19429590017825\n",
      "Los Angeles-------------\n",
      "saw local ad length: 204325 ---------\n",
      "number watched: 9354\n",
      "number did not watch:194971\n",
      "Saw Local Ad: Watched: 4.578000734124556 Did Not Watch: 95.42199926587544\n",
      "no local ad length: 45918 ---------\n",
      "number watched: 4729\n",
      "number did not watch:41189\n",
      "Saw Local Ad: Watched: 10.298793501459123 Did Not Watch: 89.70120649854088\n",
      "Dallas-------------\n",
      "saw local ad length: 204325 ---------\n",
      "number watched: 9354\n",
      "number did not watch:194971\n",
      "Saw Local Ad: Watched: 4.578000734124556 Did Not Watch: 95.42199926587544\n",
      "no local ad length: 11204 ---------\n",
      "number watched: 573\n",
      "number did not watch:10631\n",
      "Saw Local Ad: Watched: 5.114244912531239 Did Not Watch: 94.88575508746877\n",
      "Miami-------------\n",
      "saw local ad length: 204325 ---------\n",
      "number watched: 9354\n",
      "number did not watch:194971\n",
      "Saw Local Ad: Watched: 4.578000734124556 Did Not Watch: 95.42199926587544\n",
      "no local ad length: 7268 ---------\n",
      "number watched: 352\n",
      "number did not watch:6916\n",
      "Saw Local Ad: Watched: 4.843148046230049 Did Not Watch: 95.15685195376994\n",
      "New York-------------\n",
      "saw local ad length: 204325 ---------\n",
      "number watched: 9354\n",
      "number did not watch:194971\n",
      "Saw Local Ad: Watched: 4.578000734124556 Did Not Watch: 95.42199926587544\n",
      "no local ad length: 29807 ---------\n",
      "number watched: 1595\n",
      "number did not watch:28212\n",
      "Saw Local Ad: Watched: 5.35109202536317 Did Not Watch: 94.64890797463683\n",
      "Phoenix-------------\n",
      "saw local ad length: 204325 ---------\n",
      "number watched: 9354\n",
      "number did not watch:194971\n",
      "Saw Local Ad: Watched: 4.578000734124556 Did Not Watch: 95.42199926587544\n",
      "no local ad length: 8135 ---------\n",
      "number watched: 422\n",
      "number did not watch:7713\n",
      "Saw Local Ad: Watched: 5.1874615857406265 Did Not Watch: 94.81253841425938\n",
      "Seattle-------------\n",
      "saw local ad length: 204325 ---------\n",
      "number watched: 9354\n",
      "number did not watch:194971\n",
      "Saw Local Ad: Watched: 4.578000734124556 Did Not Watch: 95.42199926587544\n",
      "no local ad length: 2479 ---------\n",
      "number watched: 68\n",
      "number did not watch:2411\n",
      "Saw Local Ad: Watched: 2.743041549011698 Did Not Watch: 97.25695845098831\n",
      "Tampa-------------\n",
      "saw local ad length: 204325 ---------\n",
      "number watched: 9354\n",
      "number did not watch:194971\n",
      "Saw Local Ad: Watched: 4.578000734124556 Did Not Watch: 95.42199926587544\n",
      "no local ad length: 7813 ---------\n",
      "number watched: 411\n",
      "number did not watch:7402\n",
      "Saw Local Ad: Watched: 5.260463330346858 Did Not Watch: 94.73953666965315\n",
      "Houston-------------\n",
      "saw local ad length: 204325 ---------\n",
      "number watched: 9354\n",
      "number did not watch:194971\n",
      "Saw Local Ad: Watched: 4.578000734124556 Did Not Watch: 95.42199926587544\n",
      "no local ad length: 10362 ---------\n",
      "number watched: 532\n",
      "number did not watch:9830\n",
      "Saw Local Ad: Watched: 5.134143987647172 Did Not Watch: 94.86585601235282\n"
     ]
    }
   ],
   "source": [
    "cities = no_nans['city'].unique()\n",
    "print(cities)\n",
    "for city in cities:\n",
    "    print(f'{city}-------------')\n",
    "    thiscity = no_nans.loc[no_nans['city']==city]\n",
    "    saw_ad, no_ad = split_df(thiscity, SAW_LOCAL_AD)\n",
    "    check_ad_effect(saw_local_ad, 'saw local ad')\n",
    "    check_ad_effect(no_ad, 'no local ad')"
   ]
  },
  {
   "cell_type": "code",
   "execution_count": null,
   "metadata": {},
   "outputs": [],
   "source": []
  }
 ],
 "metadata": {
  "kernelspec": {
   "display_name": "Python 3",
   "language": "python",
   "name": "python3"
  },
  "language_info": {
   "codemirror_mode": {
    "name": "ipython",
    "version": 3
   },
   "file_extension": ".py",
   "mimetype": "text/x-python",
   "name": "python",
   "nbconvert_exporter": "python",
   "pygments_lexer": "ipython3",
   "version": "3.8.5"
  }
 },
 "nbformat": 4,
 "nbformat_minor": 4
}
