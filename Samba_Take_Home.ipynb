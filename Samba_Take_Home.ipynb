{
 "cells": [
  {
   "cell_type": "markdown",
   "metadata": {},
   "source": [
    "# US Politics This Week Ad Analysis"
   ]
  },
  {
   "cell_type": "code",
   "execution_count": 1,
   "metadata": {},
   "outputs": [],
   "source": [
    "import numpy as np\n",
    "import pandas as pd\n",
    "import matplotlib.pyplot as plt\n",
    "import seaborn as sns"
   ]
  },
  {
   "cell_type": "code",
   "execution_count": 20,
   "metadata": {},
   "outputs": [],
   "source": [
    "#CONSTANTS\n",
    "TEST_DATA_FILE = 'test_data.csv'\n",
    "VIEWER_DATA_FILE = 'viewer_data.csv'\n",
    "VIEWER_ID = 'viewer_id'\n",
    "SAW_LOCAL_AD = 'test'\n",
    "WATCHED_POLITICS = 'watched'"
   ]
  },
  {
   "cell_type": "markdown",
   "metadata": {},
   "source": [
    "# 1. Read Test dataset and display columns"
   ]
  },
  {
   "cell_type": "code",
   "execution_count": 21,
   "metadata": {},
   "outputs": [
    {
     "name": "stdout",
     "output_type": "stream",
     "text": [
      "418026\n"
     ]
    },
    {
     "data": {
      "text/html": [
       "<div>\n",
       "<style scoped>\n",
       "    .dataframe tbody tr th:only-of-type {\n",
       "        vertical-align: middle;\n",
       "    }\n",
       "\n",
       "    .dataframe tbody tr th {\n",
       "        vertical-align: top;\n",
       "    }\n",
       "\n",
       "    .dataframe thead th {\n",
       "        text-align: right;\n",
       "    }\n",
       "</style>\n",
       "<table border=\"1\" class=\"dataframe\">\n",
       "  <thead>\n",
       "    <tr style=\"text-align: right;\">\n",
       "      <th></th>\n",
       "      <th>viewer_id</th>\n",
       "      <th>date</th>\n",
       "      <th>tv_make</th>\n",
       "      <th>tv_size</th>\n",
       "      <th>uhd_capable</th>\n",
       "      <th>tv_provider</th>\n",
       "      <th>total_time_watched</th>\n",
       "      <th>watched</th>\n",
       "      <th>test</th>\n",
       "    </tr>\n",
       "  </thead>\n",
       "  <tbody>\n",
       "    <tr>\n",
       "      <th>0</th>\n",
       "      <td>24726768</td>\n",
       "      <td>2018-01-16</td>\n",
       "      <td>Sony</td>\n",
       "      <td>70</td>\n",
       "      <td>0</td>\n",
       "      <td>Comcast</td>\n",
       "      <td>10.75</td>\n",
       "      <td>0</td>\n",
       "      <td>1</td>\n",
       "    </tr>\n",
       "    <tr>\n",
       "      <th>1</th>\n",
       "      <td>25001464</td>\n",
       "      <td>2018-01-18</td>\n",
       "      <td>Sony</td>\n",
       "      <td>32</td>\n",
       "      <td>0</td>\n",
       "      <td>NaN</td>\n",
       "      <td>2.75</td>\n",
       "      <td>0</td>\n",
       "      <td>0</td>\n",
       "    </tr>\n",
       "    <tr>\n",
       "      <th>2</th>\n",
       "      <td>28291998</td>\n",
       "      <td>2018-01-18</td>\n",
       "      <td>Sony</td>\n",
       "      <td>50</td>\n",
       "      <td>1</td>\n",
       "      <td>Dish Network</td>\n",
       "      <td>20.00</td>\n",
       "      <td>0</td>\n",
       "      <td>0</td>\n",
       "    </tr>\n",
       "    <tr>\n",
       "      <th>3</th>\n",
       "      <td>17057157</td>\n",
       "      <td>2018-01-19</td>\n",
       "      <td>Sony</td>\n",
       "      <td>32</td>\n",
       "      <td>0</td>\n",
       "      <td>Comcast</td>\n",
       "      <td>1.50</td>\n",
       "      <td>0</td>\n",
       "      <td>0</td>\n",
       "    </tr>\n",
       "    <tr>\n",
       "      <th>4</th>\n",
       "      <td>29504447</td>\n",
       "      <td>2018-01-17</td>\n",
       "      <td>Sony</td>\n",
       "      <td>32</td>\n",
       "      <td>0</td>\n",
       "      <td>Comcast</td>\n",
       "      <td>17.50</td>\n",
       "      <td>0</td>\n",
       "      <td>0</td>\n",
       "    </tr>\n",
       "  </tbody>\n",
       "</table>\n",
       "</div>"
      ],
      "text/plain": [
       "   viewer_id        date tv_make  tv_size  uhd_capable   tv_provider  \\\n",
       "0   24726768  2018-01-16    Sony       70            0       Comcast   \n",
       "1   25001464  2018-01-18    Sony       32            0           NaN   \n",
       "2   28291998  2018-01-18    Sony       50            1  Dish Network   \n",
       "3   17057157  2018-01-19    Sony       32            0       Comcast   \n",
       "4   29504447  2018-01-17    Sony       32            0       Comcast   \n",
       "\n",
       "   total_time_watched  watched  test  \n",
       "0               10.75        0     1  \n",
       "1                2.75        0     0  \n",
       "2               20.00        0     0  \n",
       "3                1.50        0     0  \n",
       "4               17.50        0     0  "
      ]
     },
     "execution_count": 21,
     "metadata": {},
     "output_type": "execute_result"
    }
   ],
   "source": [
    "viewer_data = pd.read_csv(VIEWER_DATA_FILE)\n",
    "test_data = pd.read_csv(TEST_DATA_FILE)\n",
    "print(len(test_data))\n",
    "test_data.head()"
   ]
  },
  {
   "cell_type": "code",
   "execution_count": null,
   "metadata": {},
   "outputs": [],
   "source": [
    "sns.pairplot(test_data[['tv_make', 'tv_size', 'uhd_capable', 'tv_provider', 'total_time_watched', 'watched', 'test']])"
   ]
  },
  {
   "cell_type": "code",
   "execution_count": 19,
   "metadata": {},
   "outputs": [
    {
     "name": "stdout",
     "output_type": "stream",
     "text": [
      "418020\n"
     ]
    }
   ],
   "source": []
  },
  {
   "cell_type": "markdown",
   "metadata": {},
   "source": [
    "# 2. Check if Viewers who saw ads with local Mayors watched US Politics This Week less"
   ]
  },
  {
   "cell_type": "markdown",
   "metadata": {},
   "source": [
    "let's first check for null values and duplicate viewer ids. Ok there are 6 duplicate viewer IDs."
   ]
  },
  {
   "cell_type": "code",
   "execution_count": null,
   "metadata": {},
   "outputs": [],
   "source": [
    "print(f'Number of duplicate IDs: {len(test_data) -test_data[VIEWER_ID].nunique()}')\n",
    "[print(col,test_data[col].isnull().sum()) for col in test_data.columns]"
   ]
  },
  {
   "cell_type": "code",
   "execution_count": null,
   "metadata": {},
   "outputs": [],
   "source": [
    "print(test_data[test_data.duplicated(subset=[VIEWER_ID],keep=False)][[VIEWER_ID,'watched','test']].sort_values(by=VIEWER_ID))"
   ]
  },
  {
   "cell_type": "code",
   "execution_count": 22,
   "metadata": {},
   "outputs": [
    {
     "data": {
      "text/plain": [
       "(array([213695.,      0.,      0.,      0.,      0.,      0.,      0.,\n",
       "             0.,      0., 204325.]),\n",
       " array([0. , 0.1, 0.2, 0.3, 0.4, 0.5, 0.6, 0.7, 0.8, 0.9, 1. ]),\n",
       " <a list of 10 Patch objects>)"
      ]
     },
     "execution_count": 22,
     "metadata": {},
     "output_type": "execute_result"
    },
    {
     "data": {
      "image/png": "[encoded data removed]",
      "text/plain": [
       "<Figure size 432x288 with 1 Axes>"
      ]
     },
     "metadata": {
      "needs_background": "light"
     },
     "output_type": "display_data"
    }
   ],
   "source": [
    "test_data = test_data.drop_duplicates(subset = [VIEWER_ID])\n",
    "plt.hist(test_data[SAW_LOCAL_AD])"
   ]
  },
  {
   "cell_type": "code",
   "execution_count": 23,
   "metadata": {},
   "outputs": [
    {
     "name": "stdout",
     "output_type": "stream",
     "text": [
      "418020\n",
      "418020\n"
     ]
    }
   ],
   "source": [
    "print(len(test_data))\n",
    "test_data = pd.merge(test_data, viewer_data, how='left', on = VIEWER_ID )\n",
    "print(len(test_data))"
   ]
  },
  {
   "cell_type": "code",
   "execution_count": 4,
   "metadata": {},
   "outputs": [
    {
     "data": {
      "text/plain": [
       "(array([213695.,      0.,      0.,      0.,      0.,      0.,      0.,\n",
       "             0.,      0., 204325.]),\n",
       " array([0. , 0.1, 0.2, 0.3, 0.4, 0.5, 0.6, 0.7, 0.8, 0.9, 1. ]),\n",
       " <a list of 10 Patch objects>)"
      ]
     },
     "execution_count": 4,
     "metadata": {},
     "output_type": "execute_result"
    },
    {
     "data": {
      "image/png": "[encoded data removed]",
      "text/plain": [
       "<Figure size 432x288 with 1 Axes>"
      ]
     },
     "metadata": {
      "needs_background": "light"
     },
     "output_type": "display_data"
    }
   ],
   "source": [
    "\n",
    "\n"
   ]
  },
  {
   "cell_type": "code",
   "execution_count": null,
   "metadata": {},
   "outputs": [],
   "source": [
    "plt.hist(test_data[WATCHED_POLITICS])"
   ]
  },
  {
   "cell_type": "code",
   "execution_count": 5,
   "metadata": {},
   "outputs": [
    {
     "name": "stdout",
     "output_type": "stream",
     "text": [
      "saw local ad length: 204325 ---------\n",
      "number watched: 9354\n",
      "number did not watch:194971\n",
      "Saw Local Ad: Watched: 4.578000734124556 Did Not Watch: 95.42199926587544\n",
      "no local ad length: 213695 ---------\n",
      "number watched: 13447\n",
      "number did not watch:200248\n",
      "Saw Local Ad: Watched: 6.292613304008049 Did Not Watch: 93.70738669599196\n"
     ]
    }
   ],
   "source": [
    "dfs = []\n",
    "names = ['saw local ad', 'no local ad']\n",
    "saw_local_ad = test_data.loc[test_data[SAW_LOCAL_AD]==1]\n",
    "no_ad = test_data.loc[test_data[SAW_LOCAL_AD]==0]\n",
    "dfs.append(saw_local_ad)\n",
    "dfs.append(no_ad)\n",
    "for df, name in zip(dfs, names):\n",
    "    print(f'{name} length: {len(df)} ---------')\n",
    "    print(f'number watched: {len(df.loc[df[WATCHED_POLITICS]==1])}')\n",
    "    print(f'number did not watch:{len(df.loc[df[WATCHED_POLITICS]==0])}')\n",
    "    percent_watched = 100*len(df.loc[df[WATCHED_POLITICS]==1])/len(df)\n",
    "    percent_not_watched = 100*len(df.loc[df[WATCHED_POLITICS]==0])/len(df)\n",
    "    print(f'Saw Local Ad: Watched: {percent_watched} Did Not Watch: {percent_not_watched}')\n"
   ]
  },
  {
   "cell_type": "markdown",
   "metadata": {},
   "source": [
    "So, viewers that saw the local ad watched US Politics This Week ~1.73% less than viewers who did not see the ad. This is not expected, but may be due to the samples not being stratified across users by age, gender, tv_size, etc evenly."
   ]
  },
  {
   "cell_type": "markdown",
   "metadata": {},
   "source": [
    "# Why less viewers that saw Local Ad watched US Politics This Week"
   ]
  },
  {
   "cell_type": "markdown",
   "metadata": {},
   "source": [
    "Let's first merge in viewer data, and double check that we do not lose an viewers due to not having their viewer data"
   ]
  },
  {
   "cell_type": "code",
   "execution_count": 6,
   "metadata": {},
   "outputs": [
    {
     "name": "stdout",
     "output_type": "stream",
     "text": [
      "204325\n",
      "204325\n",
      "213695\n",
      "213695\n"
     ]
    }
   ],
   "source": [
    "print(len(saw_local_ad))\n",
    "saw_local_ad = pd.merge(saw_local_ad, viewer_data, how='left', on = VIEWER_ID )\n",
    "print(len(saw_local_ad))\n",
    "print(len(no_ad))\n",
    "no_ad = pd.merge(no_ad, viewer_data, how = 'left', on = VIEWER_ID)\n",
    "print(len(no_ad))\n"
   ]
  },
  {
   "cell_type": "code",
   "execution_count": null,
   "metadata": {},
   "outputs": [],
   "source": [
    "#df['zipcode'] = df.zipcode.astype(str)\n",
    "print(saw_local_ad.dtypes)\n",
    "#saw_local_ad['tv_provider'] = saw_local_ad['tv_provider'].astype('category')\n",
    "#df['zipcode'] = df.zipcode.astype('category')\n",
    "print(saw_local_ad['tv_provider'].dtypes)\n",
    "print(saw_local_ad['tv_provider'].unique())\n"
   ]
  },
  {
   "cell_type": "code",
   "execution_count": null,
   "metadata": {},
   "outputs": [],
   "source": [
    "print(len(saw_local_ad))\n",
    "print(len(no_ad))\n",
    "columns = ['gender']#['date', 'tv_make','tv_size', 'uhd_capable' ]\n",
    "           #'watched', 'test', 'gender', 'age', 'city']\n",
    "print('here')\n",
    "for col in columns:\n",
    "    print(col)\n",
    "    figure = plt.figure()\n",
    "    histmin = min(saw_local_ad[col].min(), no_ad[col].min())\n",
    "    histmax = max(saw_local_ad[col].max(), no_ad[col].max())\n",
    "    nbins = 20\n",
    "    local_ad_ndarray = plt.hist(saw_local_ad[col], label = 'Saw Local Ad', density = True)\n",
    "    no_ad_ndarray = plt.hist(no_ad[col], label = 'No Local Ad', density = True)\n",
    "    print(local_ad_ndarray[0])\n",
    "    print(no_ad_ndarray[0])\n",
    "    #local_ad_hist = np.histogram(saw_local_ad, range=(histmin,histmax), bins = nbins )\n",
    "    #no_ad_hist = np\n",
    "    #hist1, _ = numpy.histogram(img1,range=(min,max), bins=nbins)\n",
    "    #hist2, _ = numpy.histogram(img2,range=(min,max), bins=nbins)\n",
    "    #diff = local_ad_ndarray[0]-no_ad_ndarray[0]\n",
    "\n",
    "\n",
    "    #plt.hist(diff, bins = local_ad_ndarray[1], label = \"Saw Local Ad - No Local Ad\")\n",
    "    #count, division = pd.np.histogram(saw_local_ad[col].values)\n",
    "    #print(count)\n",
    "    #print(division)\n",
    "    plt.title(col)\n",
    "    #plt.ylim(0.4,0.55)\n",
    "    plt.legend()\n"
   ]
  },
  {
   "cell_type": "code",
   "execution_count": 7,
   "metadata": {},
   "outputs": [
    {
     "data": {
      "text/html": [
       "<div>\n",
       "<style scoped>\n",
       "    .dataframe tbody tr th:only-of-type {\n",
       "        vertical-align: middle;\n",
       "    }\n",
       "\n",
       "    .dataframe tbody tr th {\n",
       "        vertical-align: top;\n",
       "    }\n",
       "\n",
       "    .dataframe thead th {\n",
       "        text-align: right;\n",
       "    }\n",
       "</style>\n",
       "<table border=\"1\" class=\"dataframe\">\n",
       "  <thead>\n",
       "    <tr style=\"text-align: right;\">\n",
       "      <th></th>\n",
       "      <th>viewer_id</th>\n",
       "      <th>date</th>\n",
       "      <th>tv_make</th>\n",
       "      <th>tv_size</th>\n",
       "      <th>uhd_capable</th>\n",
       "      <th>tv_provider</th>\n",
       "      <th>total_time_watched</th>\n",
       "      <th>watched</th>\n",
       "      <th>test</th>\n",
       "      <th>gender</th>\n",
       "      <th>age</th>\n",
       "      <th>city</th>\n",
       "    </tr>\n",
       "  </thead>\n",
       "  <tbody>\n",
       "    <tr>\n",
       "      <th>0</th>\n",
       "      <td>24726768</td>\n",
       "      <td>2018-01-16</td>\n",
       "      <td>Sony</td>\n",
       "      <td>70</td>\n",
       "      <td>0</td>\n",
       "      <td>Comcast</td>\n",
       "      <td>10.75</td>\n",
       "      <td>0</td>\n",
       "      <td>1</td>\n",
       "      <td>Male</td>\n",
       "      <td>52.0</td>\n",
       "      <td>Boston</td>\n",
       "    </tr>\n",
       "    <tr>\n",
       "      <th>1</th>\n",
       "      <td>25001464</td>\n",
       "      <td>2018-01-18</td>\n",
       "      <td>Sony</td>\n",
       "      <td>32</td>\n",
       "      <td>0</td>\n",
       "      <td>NaN</td>\n",
       "      <td>2.75</td>\n",
       "      <td>0</td>\n",
       "      <td>0</td>\n",
       "      <td>Male</td>\n",
       "      <td>38.0</td>\n",
       "      <td>New York</td>\n",
       "    </tr>\n",
       "    <tr>\n",
       "      <th>2</th>\n",
       "      <td>28291998</td>\n",
       "      <td>2018-01-18</td>\n",
       "      <td>Sony</td>\n",
       "      <td>50</td>\n",
       "      <td>1</td>\n",
       "      <td>Dish Network</td>\n",
       "      <td>20.00</td>\n",
       "      <td>0</td>\n",
       "      <td>0</td>\n",
       "      <td>Female</td>\n",
       "      <td>38.0</td>\n",
       "      <td>San Francisco</td>\n",
       "    </tr>\n",
       "    <tr>\n",
       "      <th>3</th>\n",
       "      <td>17057157</td>\n",
       "      <td>2018-01-19</td>\n",
       "      <td>Sony</td>\n",
       "      <td>32</td>\n",
       "      <td>0</td>\n",
       "      <td>Comcast</td>\n",
       "      <td>1.50</td>\n",
       "      <td>0</td>\n",
       "      <td>0</td>\n",
       "      <td>Male</td>\n",
       "      <td>39.0</td>\n",
       "      <td>Philadelphia</td>\n",
       "    </tr>\n",
       "    <tr>\n",
       "      <th>4</th>\n",
       "      <td>29504447</td>\n",
       "      <td>2018-01-17</td>\n",
       "      <td>Sony</td>\n",
       "      <td>32</td>\n",
       "      <td>0</td>\n",
       "      <td>Comcast</td>\n",
       "      <td>17.50</td>\n",
       "      <td>0</td>\n",
       "      <td>0</td>\n",
       "      <td>Female</td>\n",
       "      <td>57.0</td>\n",
       "      <td>Detroit</td>\n",
       "    </tr>\n",
       "  </tbody>\n",
       "</table>\n",
       "</div>"
      ],
      "text/plain": [
       "   viewer_id        date tv_make  tv_size  uhd_capable   tv_provider  \\\n",
       "0   24726768  2018-01-16    Sony       70            0       Comcast   \n",
       "1   25001464  2018-01-18    Sony       32            0           NaN   \n",
       "2   28291998  2018-01-18    Sony       50            1  Dish Network   \n",
       "3   17057157  2018-01-19    Sony       32            0       Comcast   \n",
       "4   29504447  2018-01-17    Sony       32            0       Comcast   \n",
       "\n",
       "   total_time_watched  watched  test  gender   age           city  \n",
       "0               10.75        0     1    Male  52.0         Boston  \n",
       "1                2.75        0     0    Male  38.0       New York  \n",
       "2               20.00        0     0  Female  38.0  San Francisco  \n",
       "3                1.50        0     0    Male  39.0   Philadelphia  \n",
       "4               17.50        0     0  Female  57.0        Detroit  "
      ]
     },
     "execution_count": 7,
     "metadata": {},
     "output_type": "execute_result"
    }
   ],
   "source": [
    "#nans = test_data[test_data.isna().any(axis=1)]\n",
    "test_data = pd.merge(test_data, viewer_data, how='left', on = VIEWER_ID )\n",
    "test_data.head()\n",
    "#nans = test_data[test_data['city'].isnull()]\n",
    "#print(nans)#print(len(nans))"
   ]
  },
  {
   "cell_type": "code",
   "execution_count": 18,
   "metadata": {},
   "outputs": [
    {
     "name": "stdout",
     "output_type": "stream",
     "text": [
      "tv_provider has 52718 NaN values\n",
      "gender has 556 NaN values\n",
      "age has 556 NaN values\n",
      "city has 556 NaN values\n",
      "556\n"
     ]
    }
   ],
   "source": [
    "questionable = ['tv_provider', 'gender', 'age', 'city']\n",
    "for col in questionable:\n",
    "    nans = test_data[test_data[col].isnull()]\n",
    "    print(f'{col} has {len(nans)} NaN values')\n",
    "#for col in questionable:\n",
    "#nans = test_data[test_data['tv_provider'].isnull()]\n",
    "print(len(nans))\n",
    "#plt.hist(nans['test'])\n",
    "#plt.hist(nans['watched'])"
   ]
  },
  {
   "cell_type": "code",
   "execution_count": null,
   "metadata": {},
   "outputs": [],
   "source": []
  }
 ],
 "metadata": {
  "kernelspec": {
   "display_name": "Python 3",
   "language": "python",
   "name": "python3"
  },
  "language_info": {
   "codemirror_mode": {
    "name": "ipython",
    "version": 3
   },
   "file_extension": ".py",
   "mimetype": "text/x-python",
   "name": "python",
   "nbconvert_exporter": "python",
   "pygments_lexer": "ipython3",
   "version": "3.8.5"
  }
 },
 "nbformat": 4,
 "nbformat_minor": 4
}
